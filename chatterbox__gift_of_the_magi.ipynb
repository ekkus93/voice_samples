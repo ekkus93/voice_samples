{
  "nbformat": 4,
  "nbformat_minor": 0,
  "metadata": {
    "colab": {
      "provenance": [],
      "gpuType": "T4",
      "include_colab_link": true
    },
    "kernelspec": {
      "name": "python3",
      "display_name": "Python 3"
    },
    "language_info": {
      "name": "python"
    },
    "accelerator": "GPU"
  },
  "cells": [
    {
      "cell_type": "markdown",
      "metadata": {
        "id": "view-in-github",
        "colab_type": "text"
      },
      "source": [
        "<a href=\"https://colab.research.google.com/github/ekkus93/voice_samples/blob/master/chatterbox__gift_of_the_magi.ipynb\" target=\"_parent\"><img src=\"https://colab.research.google.com/assets/colab-badge.svg\" alt=\"Open In Colab\"/></a>"
      ]
    },
    {
      "cell_type": "markdown",
      "source": [
        "# Setup"
      ],
      "metadata": {
        "id": "ibo1eCUEQL14"
      }
    },
    {
      "cell_type": "markdown",
      "source": [
        "## Get voices from github repo"
      ],
      "metadata": {
        "id": "1Jch2wAvTw32"
      }
    },
    {
      "cell_type": "code",
      "source": [
        "!cd /content && wget https://github.com/ekkus93/voice_samples/archive/refs/heads/master.zip && unzip master.zip"
      ],
      "metadata": {
        "id": "q154RWJsTFpG"
      },
      "execution_count": null,
      "outputs": []
    },
    {
      "cell_type": "code",
      "source": [
        "!apt-get install -y build-essential autoconf libtool pkg-config \\\n",
        "libjpeg-dev libpng-dev libtiff-dev libgif-dev \\\n",
        "libfreetype6-dev libx11-dev libxt-dev"
      ],
      "metadata": {
        "id": "yNGLYQYLTRid"
      },
      "execution_count": null,
      "outputs": []
    },
    {
      "cell_type": "code",
      "source": [
        "!apt-get update\n",
        "!apt-get install -y libwebp-dev libwmf-dev liblcms2-dev"
      ],
      "metadata": {
        "id": "Ro-J7ISjSjqH"
      },
      "execution_count": null,
      "outputs": []
    },
    {
      "cell_type": "code",
      "execution_count": null,
      "metadata": {
        "id": "owUG78Za-4Rq"
      },
      "outputs": [],
      "source": [
        "pip install chatterbox-tts"
      ]
    },
    {
      "cell_type": "markdown",
      "source": [
        "# Generate speech"
      ],
      "metadata": {
        "id": "0fNgTWGiQO_2"
      }
    },
    {
      "cell_type": "code",
      "source": [
        "import torchaudio as ta\n",
        "from chatterbox.tts import ChatterboxTTS\n",
        "\n",
        "model = ChatterboxTTS.from_pretrained(device=\"cuda\")"
      ],
      "metadata": {
        "id": "V8ZoWDcK_LVu"
      },
      "execution_count": null,
      "outputs": []
    },
    {
      "cell_type": "markdown",
      "source": [
        "# Try with default voice"
      ],
      "metadata": {
        "id": "p-ScV01JUFix"
      }
    },
    {
      "cell_type": "code",
      "source": [
        "text = \"Ezreal and Jinx teamed up with Ahri, Yasuo, and Teemo to take down the enemy's Nexus in an epic late-game pentakill.\"\n",
        "wav = model.generate(text)\n",
        "ta.save(\"test-1.wav\", wav, model.sr)"
      ],
      "metadata": {
        "id": "5IiMvh3K_Uf1"
      },
      "execution_count": null,
      "outputs": []
    },
    {
      "cell_type": "markdown",
      "source": [],
      "metadata": {
        "id": "mqmrclvtaYel"
      }
    },
    {
      "cell_type": "code",
      "source": [
        "# prompt: Add a control to play test-1.wav\n",
        "\n",
        "from IPython.display import Audio\n",
        "Audio(\"test-1.wav\")\n"
      ],
      "metadata": {
        "id": "PN-2cEA7_V5k"
      },
      "execution_count": null,
      "outputs": []
    },
    {
      "cell_type": "markdown",
      "source": [],
      "metadata": {
        "id": "QDB0u7Z8UOEs"
      }
    },
    {
      "cell_type": "markdown",
      "source": [
        "# Pick a voice"
      ],
      "metadata": {
        "id": "UGA1C2e_UTQd"
      }
    },
    {
      "cell_type": "markdown",
      "source": [
        "## Option 1: Pick a voice from voice samples"
      ],
      "metadata": {
        "id": "q2N_waUrVCA5"
      }
    },
    {
      "cell_type": "code",
      "metadata": {
        "id": "18401479"
      },
      "source": [
        "import os\n",
        "import ipywidgets as widgets\n",
        "from IPython.display import display\n",
        "\n",
        "voice_samples_dir = \"/content/voice_samples-master/voice_samples\"\n",
        "voice_files = sorted([f for f in os.listdir(voice_samples_dir) if os.path.isfile(os.path.join(voice_samples_dir, f))])\n",
        "\n",
        "# Create the dropdown menu using ipywidgets\n",
        "dropdown = widgets.Dropdown(\n",
        "    options=[\"None\"] + voice_files,\n",
        "    value=\"None\",\n",
        "    description='Select voice file:',\n",
        "    disabled=False,\n",
        ")\n",
        "\n",
        "display(dropdown)"
      ],
      "execution_count": null,
      "outputs": []
    },
    {
      "cell_type": "code",
      "source": [
        "voice_file = f\"/content/voice_samples-master/voice_samples/{dropdown.value}\"\n",
        "print(f\"Selected voice file: {voice_file}\")"
      ],
      "metadata": {
        "id": "GmmOiIMaWrpq"
      },
      "execution_count": null,
      "outputs": []
    },
    {
      "cell_type": "code",
      "source": [
        "from IPython.display import Audio\n",
        "Audio(voice_file)"
      ],
      "metadata": {
        "id": "DTg0IGY8Xcs5"
      },
      "execution_count": null,
      "outputs": []
    },
    {
      "cell_type": "markdown",
      "source": [
        "## Option 2: Use your own voice"
      ],
      "metadata": {
        "id": "orxMelQ3UeFS"
      }
    },
    {
      "cell_type": "code",
      "metadata": {
        "id": "b1a90bf9"
      },
      "source": [
        "from google.colab import output\n",
        "from IPython.display import display, HTML, Javascript\n",
        "from base64 import b64decode\n",
        "\n",
        "sample_text = \"\"\"\n",
        "With the police helicopters thundering towards us,\n",
        "and Marla and all the support group people who couldn't save themselves,\n",
        "with all of them trying to save me, I had to pull the trigger.\n",
        "This was better than real life.\n",
        "\"\"\"\n",
        "print(sample_text)\n",
        "\n",
        "# Register the save function to receive audio data from JS\n",
        "def save_audio(data, filename=\"myvoice.wav\"):\n",
        "    audio_data = b64decode(data)\n",
        "    with open(filename, \"wb\") as f:\n",
        "        f.write(audio_data)\n",
        "    print(f\"Audio saved as {filename}\")\n",
        "\n",
        "output.register_callback('notebook.save_audio', save_audio)\n",
        "\n",
        "# Display recording controls in Colab\n",
        "display(HTML('''\n",
        "  <div>\n",
        "    <button id=\"start-record\">Start Recording</button>\n",
        "    <button id=\"stop-record\" disabled>Stop Recording</button>\n",
        "  </div>\n",
        "'''))\n",
        "\n",
        "display(Javascript('''\n",
        "let mediaRecorder;\n",
        "let audioChunks;\n",
        "\n",
        "document.getElementById(\"start-record\").onclick = async () => {\n",
        "  const stream = await navigator.mediaDevices.getUserMedia({ audio: true });\n",
        "  mediaRecorder = new MediaRecorder(stream);\n",
        "  audioChunks = [];\n",
        "\n",
        "  mediaRecorder.ondataavailable = event => {\n",
        "    if (event.data.size > 0) {\n",
        "      audioChunks.push(event.data);\n",
        "    }\n",
        "  };\n",
        "\n",
        "  mediaRecorder.onstop = async () => {\n",
        "    const audioBlob = new Blob(audioChunks);\n",
        "    const reader = new FileReader();\n",
        "    reader.readAsDataURL(audioBlob);\n",
        "    reader.onloadend = () => {\n",
        "      const base64data = reader.result.split(',')[1];\n",
        "      google.colab.kernel.invokeFunction('notebook.save_audio', [base64data], {});\n",
        "    };\n",
        "  };\n",
        "\n",
        "  mediaRecorder.start();\n",
        "  document.getElementById(\"start-record\").disabled = true;\n",
        "  document.getElementById(\"stop-record\").disabled = false;\n",
        "};\n",
        "\n",
        "document.getElementById(\"stop-record\").onclick = () => {\n",
        "  mediaRecorder.stop();\n",
        "  document.getElementById(\"start-record\").disabled = false;\n",
        "  document.getElementById(\"stop-record\").disabled = true;\n",
        "};\n",
        "'''))\n"
      ],
      "execution_count": null,
      "outputs": []
    },
    {
      "cell_type": "code",
      "source": [
        "# Convert to proper wav format using ffmpeg\n",
        "!ffmpeg -y -i myvoice.wav -acodec pcm_s16le -ar 44100 myvoice_fixed.wav && mv myvoice_fixed.wav myvoice.wav\n"
      ],
      "metadata": {
        "id": "v4zYjQnOeR1q"
      },
      "execution_count": null,
      "outputs": []
    },
    {
      "cell_type": "code",
      "source": [
        "from IPython.display import Audio\n",
        "Audio(\"myvoice.wav\")"
      ],
      "metadata": {
        "id": "fmI4dAdQdMpe"
      },
      "execution_count": null,
      "outputs": []
    },
    {
      "cell_type": "code",
      "source": [
        "voice_file = \"myvoice.wav\"\n",
        "print(f\"Selected voice file: {voice_file}\")"
      ],
      "metadata": {
        "id": "jVJHdlvyX6vE"
      },
      "execution_count": null,
      "outputs": []
    },
    {
      "cell_type": "markdown",
      "source": [
        "# Test with custom voice"
      ],
      "metadata": {
        "id": "gb__m9zsUoM6"
      }
    },
    {
      "cell_type": "code",
      "source": [
        "# If you want to synthesize with a different voice, specify the audio prompt\n",
        "AUDIO_PROMPT_PATH=voice_file\n",
        "wav = model.generate(text, audio_prompt_path=AUDIO_PROMPT_PATH)\n",
        "ta.save(\"test-2.wav\", wav, model.sr)"
      ],
      "metadata": {
        "id": "uxHOzOiYAFC1"
      },
      "execution_count": null,
      "outputs": []
    },
    {
      "cell_type": "code",
      "source": [
        "from IPython.display import Audio\n",
        "Audio(\"test-2.wav\")"
      ],
      "metadata": {
        "id": "blWVV6GwAN4t"
      },
      "execution_count": null,
      "outputs": []
    },
    {
      "cell_type": "markdown",
      "source": [
        "# Generate audio for Gift of the Magi"
      ],
      "metadata": {
        "id": "zsO_sgogUvhm"
      }
    },
    {
      "cell_type": "code",
      "source": [
        "# From https://www.gutenberg.org/cache/epub/20831/pg20831.txt\n",
        "text_str = \"\"\"\n",
        "One dollar and eighty-seven cents. That was all. And sixty cents of it\n",
        "was in pennies. Pennies saved one and two at a time by bulldozing the\n",
        "grocer and the vegetable man and the butcher until one's cheeks burned\n",
        "with the silent imputation of parsimony that such close dealing\n",
        "implied. Three times Della counted it. One dollar and eighty-seven\n",
        "cents. And the next day would be Christmas.\n",
        "\n",
        "There was clearly nothing to do but flop down on the shabby little\n",
        "couch and howl. So Della did it. Which instigates the moral reflection\n",
        "that life is made up of sobs, sniffles, and smiles, with sniffles\n",
        "predominating.\n",
        "\n",
        "While the mistress of the home is gradually subsiding from the first\n",
        "stage to the second, take a look at the home. A furnished flat at $8\n",
        "per week. It did not exactly beggar description, but it certainly had\n",
        "that word on the lookout for the mendicancy squad.\n",
        "\n",
        "In the vestibule below was a letter-box into which no letter would go,\n",
        "and an electric button from which no mortal finger could coax a ring.\n",
        "Also appertaining thereunto was a card bearing the name \"Mr. James\n",
        "Dillingham Young.\"\n",
        "\n",
        "The \"Dillingham\" had been flung to the breeze during a former period of\n",
        "prosperity when its possessor was being paid $30 per week. Now, when\n",
        "the income was shrunk to $20, the letters of \"Dillingham\" looked\n",
        "blurred, as though they were thinking seriously of contracting to a\n",
        "modest and unassuming D. But whenever Mr. James Dillingham Young came\n",
        "home and reached his flat above he was called \"Jim\" and greatly hugged\n",
        "by Mrs. James Dillingham Young, already introduced to you as Della.\n",
        "Which is all very good.\n",
        "\n",
        "Della finished her cry and attended her cheeks with the powder rag. She\n",
        "stood by the window and looked out dully at a gray cat walking a gray\n",
        "fence in a gray backyard. To-morrow would be Christmas Day, and she had\n",
        "only $1.87 with which to buy Jim a present. She had been saving every\n",
        "penny she could for months, with this result. Twenty dollars a week\n",
        "doesn't go far. Expenses had been greater than she had calculated. They\n",
        "always are. Only $1.87 to buy a present for Jim. Her Jim. Many a happy\n",
        "hour she had spent planning for something nice for him. Something fine\n",
        "and rare and sterling--something just a little bit near to being worthy\n",
        "of the honor of being owned by Jim.\n",
        "\n",
        "There was a pier-glass between the windows of the room. Perhaps you\n",
        "have seen a pier-glass in an $8 flat. A very thin and very agile person\n",
        "may, by observing his reflection in a rapid sequence of longitudinal\n",
        "strips, obtain a fairly accurate conception of his looks. Della, being\n",
        "slender, had mastered the art.\n",
        "\n",
        "Suddenly she whirled from the window and stood before the glass. Her\n",
        "eyes were shining brilliantly, but her face had lost its color within\n",
        "twenty seconds. Rapidly she pulled down her hair and let it fall to its\n",
        "full length.\n",
        "\n",
        "Now, there were two possessions of the James Dillingham Youngs in which\n",
        "they both took a mighty pride. One was Jim's gold watch that had been\n",
        "his father's and his grandfather's. The other was Della's hair. Had the\n",
        "Queen of Sheba[13-1] lived in the flat across the airshaft, Della would\n",
        "have let her hair hang out the window some day to dry just to\n",
        "depreciate Her Majesty's jewels and gifts. Had King Solomon been the\n",
        "janitor, with all his treasures piled up in the basement, Jim would\n",
        "have pulled out his watch every time he passed, just to see him pluck\n",
        "at his beard from envy.\n",
        "\n",
        "So now Della's beautiful hair fell about her, rippling and shining like\n",
        "a cascade of brown waters. It reached below her knee and made itself\n",
        "almost a garment for her. And then she did it up again nervously and\n",
        "quickly. Once she faltered for a minute and stood still where a tear or\n",
        "two splashed on the worn red carpet.\n",
        "\n",
        "On went her old brown jacket; on went her old brown hat. With a whirl\n",
        "of skirts and with the brilliant sparkle still in her eyes, she\n",
        "fluttered out the door and down the stairs to the street.\n",
        "\n",
        "Where she stopped the sign read: \"Mme. Sofronie, Hair Goods of All\n",
        "Kinds.\" One flight up Della ran, and collected herself, panting.\n",
        "Madame, large, too white, chilly, hardly looked the \"Sofronie.\"\n",
        "\n",
        "\"Will you buy my hair?\" asked Della.\n",
        "\n",
        "\"I buy hair,\" said Madame. \"Take yer hat off and let's have a sight at\n",
        "the looks of it.\"\n",
        "\n",
        "Down rippled the brown cascade.\n",
        "\n",
        "\"Twenty dollars,\" said Madame, lifting the mass with a practiced hand.\n",
        "\n",
        "\"Give it to me quick,\" said Della.\n",
        "\n",
        "Oh, and the next two hours tripped by on rosy wings. Forget the hashed\n",
        "metaphor. She was ransacking the stores for Jim's present.\n",
        "\n",
        "She found it at last. It surely had been made for Jim and no one else.\n",
        "There was no other like it in any of the stores, and she had turned all\n",
        "of them inside out. It was a platinum fob chain, simple and chaste in\n",
        "design, properly proclaiming its value by substance alone and not by\n",
        "meretricious ornamentation--as all good things should do. It was even\n",
        "worthy of The Watch. As soon as she saw it she knew that it must be\n",
        "Jim's. It was like him. Quietness and value--the description applied to\n",
        "both. Twenty-one dollars they took from her for it, and she hurried\n",
        "home with the eighty-seven cents. With that chain on his watch Jim\n",
        "might be properly anxious about the time in any company. Grand as the\n",
        "watch was, he sometimes looked at it on the sly on account of the old\n",
        "leather strap he used in place of a chain.\n",
        "\n",
        "When Della reached home her intoxication gave way a little to prudence\n",
        "and reason. She got out her curling irons and lighted the gas and went\n",
        "to work repairing the ravages made by generosity added to love. Which\n",
        "is always a tremendous task, dear friends--a mammoth task.\n",
        "\n",
        "Within forty minutes her head was covered with tiny close-lying curls\n",
        "that made her look wonderfully like a truant schoolboy. She looked at\n",
        "her reflection in the mirror, long, carefully, and critically.\n",
        "\n",
        "\"If Jim doesn't kill me,\" she said to herself, \"before he takes a\n",
        "second look at me, he'll say I look like a Coney Island chorus girl.\n",
        "But what could I do--Oh! what could I do with a dollar and eighty-seven\n",
        "cents?\"\n",
        "\n",
        "At seven o'clock the coffee was made and the frying-pan was on the back\n",
        "of the stove hot and ready to cook the chops.\n",
        "\n",
        "Jim was never late. Della doubled the fob chain in her hand and sat on\n",
        "the corner of the table near the door that he always entered. Then she\n",
        "heard his step on the stair away down on the first flight, and she\n",
        "turned white for just a moment. She had a habit of saying little silent\n",
        "prayers about the simplest everyday things, and now she whispered:\n",
        "\"Please, God, make him think I am still pretty.\"\n",
        "\n",
        "The door opened and Jim stepped in and closed it. He looked thin and\n",
        "very serious. Poor fellow, he was only twenty-two--and to be burdened\n",
        "with a family! He needed a new overcoat and he was without gloves.\n",
        "\n",
        "Jim stopped inside the door, as immovable as a setter at the scent of\n",
        "quail. His eyes were fixed upon Della, and there was an expression in\n",
        "them that she could not read, and it terrified her. It was not anger,\n",
        "nor surprise, nor disapproval, nor horror, nor any of the sentiments\n",
        "that she had been prepared for. He simply stared at her fixedly with\n",
        "that peculiar expression on his face.\n",
        "\n",
        "Della wriggled off the table and went for him.\n",
        "\n",
        "\"Jim, darling,\" she cried, \"don't look at me that way. I had my hair\n",
        "cut off and sold it because I couldn't live through Christmas without\n",
        "giving you a present. It'll grow out again--you won't mind, will you? I\n",
        "just had to do it. My hair grows awfully fast. Say 'Merry Christmas,'\n",
        "Jim, and let's be happy. You don't know what a nice--what a beautiful,\n",
        "nice gift I've got for you.\"\n",
        "\n",
        "\"You've cut off your hair?\" asked Jim laboriously, as if he had not\n",
        "arrived at that patent fact yet, even after the hardest mental labor.\n",
        "\n",
        "\"Cut it off and sold it,\" said Della. \"Don't you like me just as well,\n",
        "anyhow? I'm me without my hair, ain't I?\"\n",
        "\n",
        "Jim looked about the room curiously.\n",
        "\n",
        "\"You say your hair is gone?\" he said, with an air almost of idiocy.\n",
        "\n",
        "\"You needn't look for it,\" said Della. \"It's sold, I tell you--sold and\n",
        "gone, too. It's Christmas Eve, boy. Be good to me, for it went for you.\n",
        "Maybe the hairs of my head were numbered,\" she went on with a sudden\n",
        "serious sweetness, \"but nobody could ever count my love for you. Shall\n",
        "I put the chops on, Jim?\"\n",
        "\n",
        "Out of his trance Jim seemed quickly to wake. He enfolded his Della.\n",
        "For ten seconds let us regard with discreet scrutiny some\n",
        "inconsequential object in the other direction. Eight dollars a week or\n",
        "a million a year--what is the difference? A mathematician or a wit\n",
        "would give you the wrong answer. The magi brought valuable gifts but\n",
        "that was not among them. This dark assertion will be illuminated later.\n",
        "\n",
        "Jim drew a package from his overcoat pocket and threw it upon the\n",
        "table.\n",
        "\n",
        "\"Don't make any mistake, Dell,\" he said, \"about me. I don't think there\n",
        "is anything in the way of a haircut or a shave or a shampoo that could\n",
        "make me like my girl any less. But if you'll unwrap that package you\n",
        "may see why you had me going a while at first.\"\n",
        "\n",
        "White fingers and nimble tore at the string and paper. And then an\n",
        "ecstatic scream of joy; and then, alas! a quick feminine change to\n",
        "hysterical tears and wails, necessitating the immediate employment of\n",
        "all the comforting powers of the lord of the flat.\n",
        "\n",
        "For there lay The Combs--the set of combs, side and back, that Della\n",
        "had worshipped for long in a Broadway window. Beautiful combs, pure\n",
        "tortoise shell, with jewelled rims--just the shade to wear in the\n",
        "beautiful vanished hair. They were expensive combs, she knew, and her\n",
        "heart had simply craved and yearned over them without the least hope of\n",
        "possession. And now, they were hers, but the tresses that should have\n",
        "adorned the coveted adornments were gone.\n",
        "\n",
        "But she hugged them to her bosom, and at length she was able to look up\n",
        "with dim eyes and a smile and say: \"My hair grows so fast, Jim!\"\n",
        "\n",
        "And then Della leaped up like a little singed cat and cried, \"Oh, Oh!\"\n",
        "\n",
        "Jim had not yet seen his beautiful present. She held it out to him\n",
        "eagerly upon her open palm. The dull precious metal seemed to flash\n",
        "with a reflection of her bright and ardent spirit.\n",
        "\n",
        "\"Isn't it a dandy, Jim? I hunted all over town to find it. You'll have\n",
        "to look at the time a hundred times a day now. Give me your watch. I\n",
        "want to see how it looks on it.\"\n",
        "\n",
        "Instead of obeying, Jim tumbled down on the couch and put his hand\n",
        "under the back of his head and smiled.\n",
        "\n",
        "\"Dell,\" said he, \"let's put our Christmas presents away and keep 'em a\n",
        "while. They're too nice to use just at present. I sold the watch to get\n",
        "the money to buy your combs. And now suppose you put the chops on.\"\n",
        "\n",
        "The magi, as you know, were wise men--wonderfully wise men--who brought\n",
        "gifts to the Babe in the manger. They invented the art of giving\n",
        "Christmas presents. Being wise, their gifts were no doubt wise ones,\n",
        "possibly bearing the privilege of exchange in case of duplication. And\n",
        "here I have lamely related to you the uneventful chronicle of two\n",
        "foolish children in a flat who most unwisely sacrificed for each other\n",
        "the greatest treasures of their house. But in a last word to the wise\n",
        "of these days let it be said that of all who give gifts these two were\n",
        "the wisest. Of all who give and receive gifts, such as they are wisest.\n",
        "Everywhere they are the wisest. They are the magi.\n",
        "\"\"\""
      ],
      "metadata": {
        "id": "_1TQC-FJAgmk"
      },
      "execution_count": null,
      "outputs": []
    },
    {
      "cell_type": "code",
      "metadata": {
        "id": "58e121a3"
      },
      "source": [
        "import re\n",
        "\n",
        "def split_text_into_paragraphs_and_sentences(text):\n",
        "    \"\"\"\n",
        "    Splits text into paragraphs and then sentences within each paragraph.\n",
        "\n",
        "    Args:\n",
        "        text (str): The input text.\n",
        "\n",
        "    Returns:\n",
        "        list: A list of lists, where each inner list contains sentences\n",
        "              from a paragraph.\n",
        "    \"\"\"\n",
        "    paragraphs = text.strip().split('\\n\\n')\n",
        "    paragraph_sentences = []\n",
        "    for paragraph in paragraphs:\n",
        "        # Use a more sophisticated sentence splitting pattern\n",
        "        sentences = re.split(r'(?<!\\w\\.\\w.)(?<![A-Z][a-z]\\.)(?<=\\.|\\?|\\!)\\s', paragraph)\n",
        "        paragraph_sentences.append(sentences)\n",
        "    return paragraph_sentences\n",
        "\n",
        "sentences_by_paragraph = split_text_into_paragraphs_and_sentences(text_str)\n",
        "\n",
        "# Display the results (optional)\n",
        "for i, paragraph in enumerate(sentences_by_paragraph):\n",
        "    print(f\"Paragraph {i+1}:\")\n",
        "    for j, sentence in enumerate(paragraph):\n",
        "        print(f\"  Sentence {j+1}: {sentence}\")\n",
        "    print(\"-\" * 20)"
      ],
      "execution_count": null,
      "outputs": []
    },
    {
      "cell_type": "code",
      "source": [
        "import os\n",
        "import torchaudio as ta\n",
        "from pydub import AudioSegment\n",
        "\n",
        "# Create directory for sentence wav files\n",
        "output_dir = \"sentences\"\n",
        "os.makedirs(output_dir, exist_ok=True)\n",
        "\n",
        "# Synthesize each sentence and save to a file\n",
        "sentence_files = []\n",
        "sentence_count = 0\n",
        "for paragraph_index, paragraph_sentences in enumerate(sentences_by_paragraph):\n",
        "    for sentence_index, sentence in enumerate(paragraph_sentences):\n",
        "        # Ensure sentence is not empty after splitting\n",
        "        if sentence.strip():\n",
        "            sentence_count += 1\n",
        "            print(f\"Synthesizing sentence {sentence_count}: {sentence}\")\n",
        "            #wav = model.generate(sentence.strip())\n",
        "            wav = model.generate(sentence.strip(), audio_prompt_path=AUDIO_PROMPT_PATH)\n",
        "            file_path = os.path.join(output_dir, f\"sentence_{sentence_count}.wav\")\n",
        "            ta.save(file_path, wav, model.sr)\n",
        "            sentence_files.append(file_path)\n",
        "\n",
        "# Merge all sentence wav files\n",
        "merged_audio = None\n",
        "pause_duration_ms = 500  # Adjust the pause duration as needed (in milliseconds)\n",
        "paragraph_end_pause_ms = 1000 # Pause duration after each paragraph\n",
        "\n",
        "file_index = 0\n",
        "sentence_counter_for_paragraph = 0\n",
        "\n",
        "for paragraph_index, paragraph_sentences in enumerate(sentences_by_paragraph):\n",
        "    sentence_counter_for_paragraph = 0\n",
        "    for sentence_index, sentence in enumerate(paragraph_sentences):\n",
        "        if sentence.strip():\n",
        "            file_path = sentence_files[file_index]\n",
        "            audio_segment = AudioSegment.from_wav(file_path)\n",
        "\n",
        "            if merged_audio is None:\n",
        "                merged_audio = audio_segment\n",
        "            else:\n",
        "                merged_audio += audio_segment\n",
        "\n",
        "            file_index += 1\n",
        "            sentence_counter_for_paragraph += 1\n",
        "\n",
        "    # Add a pause after each paragraph (if it's not the last paragraph)\n",
        "    if paragraph_index < len(sentences_by_paragraph) - 1:\n",
        "         # Add a pause at the end of the paragraph\n",
        "         pause = AudioSegment.silent(duration=paragraph_end_pause_ms)\n",
        "         if merged_audio is not None:\n",
        "            merged_audio += pause\n",
        "\n",
        "\n",
        "# Save the final merged audio\n",
        "if merged_audio is not None:\n",
        "    output_filename = \"Gift_of_the_Magi.wav\"\n",
        "    merged_audio.export(output_filename, format=\"wav\")\n",
        "    print(f\"Merged audio saved as {output_filename}\")\n",
        "\n"
      ],
      "metadata": {
        "id": "wytaqZnKBTfb"
      },
      "execution_count": null,
      "outputs": []
    },
    {
      "cell_type": "code",
      "source": [
        "from IPython.display import Audio\n",
        "Audio(\"Gift_of_the_Magi.wav\")"
      ],
      "metadata": {
        "id": "m8tATKanCXQz"
      },
      "execution_count": null,
      "outputs": []
    },
    {
      "cell_type": "code",
      "source": [],
      "metadata": {
        "id": "yUBwX6iWjS-i"
      },
      "execution_count": null,
      "outputs": []
    },
    {
      "cell_type": "markdown",
      "source": [
        "# Make a simple video from the audio"
      ],
      "metadata": {
        "id": "4G2cKCXbU3_x"
      }
    },
    {
      "cell_type": "code",
      "source": [
        "import subprocess\n",
        "\n",
        "# Get duration in seconds (as float)\n",
        "result = subprocess.run(\n",
        "    [\"ffprobe\", \"-i\", \"Gift_of_the_Magi.wav\", \"-show_entries\", \"format=duration\", \"-v\", \"quiet\", \"-of\", \"csv=p=0\"],\n",
        "    stdout=subprocess.PIPE,\n",
        "    stderr=subprocess.PIPE,\n",
        "    text=True\n",
        ")\n",
        "\n",
        "duration = float(result.stdout.strip())\n",
        "print(\"Duration:\", duration)\n"
      ],
      "metadata": {
        "id": "Cu4TRVpnjTIb"
      },
      "execution_count": null,
      "outputs": []
    },
    {
      "cell_type": "code",
      "source": [
        "# Convert to integer seconds if desired\n",
        "duration_sec = int(duration)\n",
        "\n",
        "!ffmpeg -y -f lavfi -i color=c=black:s=640x480:d={duration_sec} \\\n",
        "-i Gift_of_the_Magi.wav \\\n",
        "-vf \"drawtext=fontfile=/usr/share/fonts/truetype/dejavu/DejaVuSans.ttf:text='O. HENRY':fontsize=40:fontcolor=white:x=(w-text_w)/2:y=h/2-30, drawtext=fontfile=/usr/share/fonts/truetype/dejavu/DejaVuSans.ttf:text='The Gift of the Magi':fontsize=40:fontcolor=white:x=(w-text_w)/2:y=h/2+30\" \\\n",
        "-c:v libx264 -c:a aac -shortest Gift_of_the_Magi.mp4\n"
      ],
      "metadata": {
        "id": "MMEeahpIjUsu"
      },
      "execution_count": null,
      "outputs": []
    },
    {
      "cell_type": "code",
      "metadata": {
        "id": "b32b584c"
      },
      "source": [
        "from IPython.display import Video\n",
        "Video(\"Gift_of_the_Magi.mp4\", embed=True)"
      ],
      "execution_count": null,
      "outputs": []
    }
  ]
}